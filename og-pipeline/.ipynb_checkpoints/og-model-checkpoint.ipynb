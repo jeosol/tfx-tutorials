{
 "cells": [
  {
   "cell_type": "markdown",
   "id": "070df2d5",
   "metadata": {},
   "source": [
    "# TFX for OG problem"
   ]
  },
  {
   "cell_type": "code",
   "execution_count": 1,
   "id": "8bb00112",
   "metadata": {},
   "outputs": [
    {
     "name": "stdout",
     "output_type": "stream",
     "text": [
      "TensorFlow version: 2.8.1\n",
      "TFX version: 1.7.1\n"
     ]
    }
   ],
   "source": [
    "import tensorflow as tf\n",
    "print('TensorFlow version: {}'.format(tf.__version__))\n",
    "from tfx import v1 as tfx\n",
    "print('TFX version: {}'.format(tfx.__version__))"
   ]
  },
  {
   "cell_type": "code",
   "execution_count": 2,
   "id": "06493421",
   "metadata": {},
   "outputs": [],
   "source": [
    "import os\n",
    "\n",
    "PIPELINE_NAME = \"og-model\"\n",
    "\n",
    "# Output directory to store artifacts generated from the pipeline.\n",
    "PIPELINE_ROOT = os.path.join('pipelines', PIPELINE_NAME)\n",
    "# Path to a SQLite DB file to use as an MLMD storage.\n",
    "METADATA_PATH = os.path.join('metadata', PIPELINE_NAME, 'metadata.db')\n",
    "# Output directory where created models from the pipeline will be exported.\n",
    "SERVING_MODEL_DIR = os.path.join('serving_model', PIPELINE_NAME)\n",
    "\n",
    "from absl import logging\n",
    "logging.set_verbosity(logging.INFO)  # Set default logging level."
   ]
  },
  {
   "cell_type": "markdown",
   "id": "9fdd732a",
   "metadata": {},
   "source": [
    "### Prepare example data\n",
    "\n",
    "We will download the example dataset for use in our TFX pipeline. \n",
    "\n",
    "Because the TFX ExampleGen component reads inputs from a directory, we need to create a directory and copy the dataset to it."
   ]
  },
  {
   "cell_type": "code",
   "execution_count": 33,
   "id": "fcfae45d",
   "metadata": {},
   "outputs": [],
   "source": [
    "import urllib.request\n",
    "import tempfile\n",
    "\n",
    "DATA_ROOT = '/home/onwunalu/data/datasets/machine-learning/og-data'\n",
    "_data_filepath = os.path.join(DATA_ROOT, \"og_data_40_40_1.csv\")"
   ]
  },
  {
   "cell_type": "markdown",
   "id": "689819e9",
   "metadata": {},
   "source": [
    "Take a quick look at what the raw data looks like."
   ]
  },
  {
   "cell_type": "code",
   "execution_count": 34,
   "id": "1e413c3e",
   "metadata": {},
   "outputs": [
    {
     "name": "stdout",
     "output_type": "stream",
     "text": [
      "X,Y,F\r\n",
      "0,0,8.342349\r\n",
      "1,0,9.585238\r\n",
      "2,0,12.00188\r\n",
      "3,0,11.96141\r\n",
      "4,0,11.42057\r\n",
      "5,0,11.17394\r\n",
      "6,0,12.27702\r\n",
      "7,0,11.30125\r\n",
      "8,0,12.72968\r\n"
     ]
    }
   ],
   "source": [
    "!head {_data_filepath}"
   ]
  }
 ],
 "metadata": {
  "kernelspec": {
   "display_name": "tfx",
   "language": "python",
   "name": "tfx"
  },
  "language_info": {
   "codemirror_mode": {
    "name": "ipython",
    "version": 3
   },
   "file_extension": ".py",
   "mimetype": "text/x-python",
   "name": "python",
   "nbconvert_exporter": "python",
   "pygments_lexer": "ipython3",
   "version": "3.8.0"
  }
 },
 "nbformat": 4,
 "nbformat_minor": 5
}
