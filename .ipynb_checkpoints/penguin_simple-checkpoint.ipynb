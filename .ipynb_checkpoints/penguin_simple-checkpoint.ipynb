{
 "cells": [
  {
   "cell_type": "markdown",
   "id": "53917257",
   "metadata": {},
   "source": [
    "## Simple TFX Pipeline Tutorial using Penguin dataset"
   ]
  },
  {
   "cell_type": "markdown",
   "id": "10cd7ebb",
   "metadata": {},
   "source": [
    "### A short tutorial to run a simple TFX pipeline"
   ]
  },
  {
   "cell_type": "markdown",
   "id": "aadb2cce",
   "metadata": {},
   "source": [
    "This notebook follows the TFX tutorial here https://www.tensorflow.org/tfx/tucd%20torials/tfx/penguin_simple\n",
    "\n",
    "Modications to the notebook were made to enable running the notebook locally"
   ]
  },
  {
   "cell_type": "code",
   "execution_count": 1,
   "id": "861d3b3f",
   "metadata": {
    "scrolled": true
   },
   "outputs": [
    {
     "name": "stdout",
     "output_type": "stream",
     "text": [
      "TensorFlow version: 2.8.1\n",
      "TFX version: 1.7.1\n"
     ]
    }
   ],
   "source": [
    "# Check the Tensorflow and TFX versions\n",
    "import tensorflow as tf\n",
    "print('TensorFlow version: {}'.format(tf.__version__))\n",
    "from tfx import v1 as tfx\n",
    "print('TFX version: {}'.format(tfx.__version__))"
   ]
  },
  {
   "cell_type": "markdown",
   "id": "a0efe3b8",
   "metadata": {},
   "source": [
    "### Set up variables"
   ]
  },
  {
   "cell_type": "markdown",
   "id": "dc176e81",
   "metadata": {},
   "source": [
    "Set up variables used to define a pipeline"
   ]
  },
  {
   "cell_type": "code",
   "execution_count": 2,
   "id": "53194fa0",
   "metadata": {},
   "outputs": [],
   "source": [
    "import os\n",
    "\n",
    "PIPELINE_NAME='penguin-simple'\n",
    "\n",
    "# Output directory to store artifacts generated from the pipeline\n",
    "PIPELINE_ROOT = os.path.join('pipelines', PIPELINE_NAME)\n",
    "# Path to a SQLITE DB file to use as an MLMD (ML Metadata) storage.\n",
    "METADATA_PATH = os.path.join('metadata', PIPELINE_NAME,'metadata.db')\n",
    "# Output directory where created models from the pipeline will be exported\n",
    "SERVING_MODEL_DIR = os.path.join('serving_model', PIPELINE_NAME)\n",
    "\n",
    "from absl import logging\n",
    "logging.set_verbosity(logging.INFO) # set default logging level."
   ]
  },
  {
   "cell_type": "markdown",
   "id": "3a692b3d",
   "metadata": {},
   "source": [
    "### Prepare example data"
   ]
  },
  {
   "cell_type": "code",
   "execution_count": null,
   "id": "9dc35f81",
   "metadata": {},
   "outputs": [],
   "source": []
  }
 ],
 "metadata": {
  "kernelspec": {
   "display_name": "tfx",
   "language": "python",
   "name": "tfx"
  },
  "language_info": {
   "codemirror_mode": {
    "name": "ipython",
    "version": 3
   },
   "file_extension": ".py",
   "mimetype": "text/x-python",
   "name": "python",
   "nbconvert_exporter": "python",
   "pygments_lexer": "ipython3",
   "version": "3.8.0"
  }
 },
 "nbformat": 4,
 "nbformat_minor": 5
}
