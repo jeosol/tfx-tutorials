{
  "nbformat": 4,
  "nbformat_minor": 0,
  "metadata": {
    "colab": {
      "name": "Find_square_bounding_points.ipynb",
      "provenance": [],
      "authorship_tag": "ABX9TyN29pAHcQ6CK5TSv74E8E1T",
      "include_colab_link": true
    },
    "kernelspec": {
      "name": "python3",
      "display_name": "Python 3"
    },
    "language_info": {
      "name": "python"
    }
  },
  "cells": [
    {
      "cell_type": "markdown",
      "metadata": {
        "id": "view-in-github",
        "colab_type": "text"
      },
      "source": [
        "<a href=\"https://colab.research.google.com/github/jeosol/tfx-tutorials/blob/main/Find_square_bounding_points.ipynb\" target=\"_parent\"><img src=\"https://colab.research.google.com/assets/colab-badge.svg\" alt=\"Open In Colab\"/></a>"
      ]
    },
    {
      "cell_type": "code",
      "execution_count": null,
      "metadata": {
        "id": "mLjNqFOO79fH"
      },
      "outputs": [],
      "source": [
        ""
      ]
    },
    {
      "cell_type": "markdown",
      "source": [
        "Function to generate a square that bounds k points"
      ],
      "metadata": {
        "id": "MnA2WOUB8D2M"
      }
    },
    {
      "cell_type": "code",
      "source": [
        "import heapq \n",
        "import numpy as np\n",
        "from sklearn.datasets import make_blobs\n",
        "import matplotlib.pyplot as plt \n",
        "\n"
      ],
      "metadata": {
        "id": "4BZK5i0j8TYe"
      },
      "execution_count": 26,
      "outputs": []
    },
    {
      "cell_type": "code",
      "source": [
        "X, y = make_blobs(n_samples=100, centers=1, n_features=2, random_state=0)"
      ],
      "metadata": {
        "id": "0CEyEF4o-PL2"
      },
      "execution_count": 51,
      "outputs": []
    },
    {
      "cell_type": "code",
      "source": [
        ""
      ],
      "metadata": {
        "id": "gBT3Tc6q8s-N"
      },
      "execution_count": 23,
      "outputs": []
    },
    {
      "cell_type": "code",
      "source": [
        "X[0]"
      ],
      "metadata": {
        "colab": {
          "base_uri": "https://localhost:8080/"
        },
        "id": "sfKNsaEG9mJq",
        "outputId": "62bbd325-ad9b-4380-d07e-b900cc3ea959"
      },
      "execution_count": 52,
      "outputs": [
        {
          "output_type": "execute_result",
          "data": {
            "text/plain": [
              "array([0.11504439, 6.21385228])"
            ]
          },
          "metadata": {},
          "execution_count": 52
        }
      ]
    },
    {
      "cell_type": "code",
      "source": [
        "plt.figure(figsize=(8,8))\n",
        "plt.scatter(X[:][0], X[:][1])"
      ],
      "metadata": {
        "colab": {
          "base_uri": "https://localhost:8080/",
          "height": 500
        },
        "id": "82xPvpun9GWF",
        "outputId": "a8f5c8c4-64c2-478c-e6e0-3e81549acef4"
      },
      "execution_count": 24,
      "outputs": [
        {
          "output_type": "execute_result",
          "data": {
            "text/plain": [
              "<matplotlib.collections.PathCollection at 0x7efc5f044210>"
            ]
          },
          "metadata": {},
          "execution_count": 24
        },
        {
          "output_type": "display_data",
          "data": {
            "text/plain": [
              "<Figure size 576x576 with 1 Axes>"
            ],
            "image/png": "[encoded data removed]"
          },
          "metadata": {
            "needs_background": "light"
          }
        }
      ]
    },
    {
      "cell_type": "code",
      "source": [
        "X[0]"
      ],
      "metadata": {
        "colab": {
          "base_uri": "https://localhost:8080/"
        },
        "id": "JKtEeX259Oil",
        "outputId": "9bed33f8-53f4-401b-d07d-6532c8f57e64"
      },
      "execution_count": 67,
      "outputs": [
        {
          "output_type": "execute_result",
          "data": {
            "text/plain": [
              "array([0.11504439, 6.21385228])"
            ]
          },
          "metadata": {},
          "execution_count": 67
        }
      ]
    },
    {
      "cell_type": "code",
      "source": [
        "import math\n",
        "from typing import List \n",
        "\n",
        "def distance(point, center):\n",
        "    return math.sqrt((point[0]-center[0])**2.0 + (point[1]-center[1])**2.0)\n",
        "\n",
        "\n",
        "def find_square_coords(k : int = 10):\n",
        "  X, _, center = make_blobs(n_samples=100, centers=1, n_features=2, random_state=0, return_centers=True)\n",
        "  #X, _, center = make_blobs(n_samples=100, centers=1, n_features=2, return_centers=True)\n",
        "  center = center[0]\n",
        "  print(X[1:5][:])\n",
        "  print(center)\n",
        "  #center = np.mean(X.transpose(), axis=1)\n",
        "  min_x = float('inf')\n",
        "  max_x = float('-inf')\n",
        "  min_y = float('inf')\n",
        "  max_y = float('-inf')\n",
        "  # maintain diagonal\n",
        "  max_heap : List[int] = []\n",
        "  counter_main = 0\n",
        "  counter_inner= 0\n",
        "  for x in X:\n",
        "    heapq.heappush(max_heap, (-distance(x, center), x))\n",
        "    counter_main += 1 \n",
        "    #heapq.heapush(min_heap, (-distance(x, center), x))\n",
        "    \n",
        "    if len(max_heap) == k + 1:\n",
        "      # remove a point, point removed is always the furthest point\n",
        "      heapq.heappop(max_heap)\n",
        "      counter_inner += 1 \n",
        "  print(counter_main, counter_inner, counter_main - counter_inner)\n",
        "  heap_pts = []\n",
        "  while max_heap:\n",
        "    _, (pt_x, pt_y) = heapq.heappop(max_heap)\n",
        "    heap_pts.append([pt_x, pt_y])\n",
        "    # track the extreme corner points in the heap\n",
        "    max_x = max(max_x, pt_x)\n",
        "    max_y = max(max_y, pt_y)\n",
        "    min_x = min(min_x, pt_x)\n",
        "    min_y = min(min_y, pt_y)\n",
        "  \n",
        "  # the above points gives us a rectangle\n",
        "\n",
        "  # we can convert it to square by choosing the longer side\n",
        "  # and extend shorter side along coordinate\n",
        "  # compute dx and dy\n",
        "  dx = abs(max_x - min_x)\n",
        "  dy = abs(max_y - min_y)\n",
        "\n",
        "  # if dx > dy, # extend max_y by the difference\n",
        "  if dx > dy:\n",
        "    max_y = max_y + dx - dy\n",
        "  if dy > dx: # reduce min_x by the difference\n",
        "    min_x = min_x - (dy - dx)\n",
        "\n",
        "  # return the square points\n",
        "  square_points = [[min_x, min_y], [max_x, min_y], [max_x, max_y], [min_x, max_y],\n",
        "                   [min_x, min_y]]\n",
        "\n",
        "  \n",
        "  heap_pts = np.array(heap_pts).transpose()\n",
        "  res = np.array([[min_x, min_y], [max_x, max_y]]).transpose()\n",
        "  sq_pts = np.array(square_points).transpose()\n",
        "  Xt = X.transpose()\n",
        "  plt.scatter(Xt[:][0], Xt[:][1])\n",
        "  plt.scatter(heap_pts[:][0], heap_pts[:][1])\n",
        "  plt.scatter(res[:][0], res[:][1])\n",
        "  plt.scatter(center[0], center[1])\n",
        "  plt.plot(sq_pts[:][0], sq_pts[:][1])\n",
        "  plt.axis('square')\n",
        "  return [[min_x, min_y], [max_x, max_y]]"
      ],
      "metadata": {
        "id": "LDTzwW7c-HyL"
      },
      "execution_count": 179,
      "outputs": []
    },
    {
      "cell_type": "code",
      "source": [
        "res = find_square_coords(30)"
      ],
      "metadata": {
        "colab": {
          "base_uri": "https://localhost:8080/",
          "height": 369
        },
        "id": "uEF8ooIN_GIi",
        "outputId": "f2fd11e3-47f4-4094-f964-0e1ebdf83f9f"
      },
      "execution_count": 180,
      "outputs": [
        {
          "output_type": "stream",
          "name": "stdout",
          "text": [
            "[[ 0.08848433  2.32299086]\n",
            " [-0.51498751  4.74317903]\n",
            " [ 1.37227679  3.21072582]\n",
            " [-0.12811326  4.35595241]]\n",
            "[0.97627008 4.30378733]\n",
            "100 70 30\n"
          ]
        },
        {
          "output_type": "display_data",
          "data": {
            "text/plain": [
              "<Figure size 432x288 with 1 Axes>"
            ],
            "image/png": "[encoded data removed]"
          },
          "metadata": {
            "needs_background": "light"
          }
        }
      ]
    }
  ]
}