{
 "cells": [
  {
   "cell_type": "markdown",
   "id": "fbb35639",
   "metadata": {},
   "source": [
    "# Data validation using TFX Pipeline and TensorFlow Data Validation "
   ]
  },
  {
   "cell_type": "markdown",
   "id": "22c37d54",
   "metadata": {},
   "source": [
    "The first task in any data science or ML project is to understand and clean the data, which includes:\n",
    "\n",
    "* Understanding the data types, distributions, and other information (e.g., mean value, or number of uniques) about each feature\n",
    "\n",
    "* Generating a preliminary schema that describes the data\n",
    "\n",
    "* Identifying anomalies and missing values in the data with respect to given schema"
   ]
  },
  {
   "cell_type": "code",
   "execution_count": null,
   "id": "ccfb7de8",
   "metadata": {},
   "outputs": [],
   "source": []
  }
 ],
 "metadata": {
  "kernelspec": {
   "display_name": "Python 3",
   "language": "python",
   "name": "python3"
  },
  "language_info": {
   "codemirror_mode": {
    "name": "ipython",
    "version": 3
   },
   "file_extension": ".py",
   "mimetype": "text/x-python",
   "name": "python",
   "nbconvert_exporter": "python",
   "pygments_lexer": "ipython3",
   "version": "3.7.12"
  }
 },
 "nbformat": 4,
 "nbformat_minor": 5
}
