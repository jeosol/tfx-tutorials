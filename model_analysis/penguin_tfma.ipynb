{
 "cells": [
  {
   "cell_type": "markdown",
   "id": "9514bef9",
   "metadata": {},
   "source": [
    "# Model analysis using TFX Pipeline and TensorFlow Model Analysis "
   ]
  },
  {
   "cell_type": "markdown",
   "id": "abbb0ac2",
   "metadata": {},
   "source": [
    "As you tweak your model or train it with a new dataset, you need to check whether your model has improved or become worse. \n",
    "\n",
    "Just checking top-level metrics like accuracy might not be enough\n",
    "\n",
    "Every trained model should be evaluated before it is pushed to production\n",
    "\n",
    "We will add an **Evaluator** component to the pipeline created in the previous tutorial. The evaluator component performs deep analysis for your models and compare the new model against a baseline to determine they are \"good enough\". \n",
    "\n",
    "The **Evaluator** is implemented using the TensorFlow Model Analysis library."
   ]
  },
  {
   "cell_type": "code",
   "execution_count": 1,
   "id": "30352ca0",
   "metadata": {},
   "outputs": [
    {
     "name": "stdout",
     "output_type": "stream",
     "text": [
      "TensorFlow version: 2.8.1\n",
      "TFX version: 1.7.1\n"
     ]
    }
   ],
   "source": [
    "import tensorflow as tf\n",
    "print('TensorFlow version: {}'.format(tf.__version__))\n",
    "from tfx import v1 as tfx\n",
    "print('TFX version: {}'.format(tfx.__version__))"
   ]
  },
  {
   "cell_type": "markdown",
   "id": "66d9d832",
   "metadata": {},
   "source": [
    "### Set up variables"
   ]
  },
  {
   "cell_type": "code",
   "execution_count": 2,
   "id": "a588c4dd",
   "metadata": {},
   "outputs": [],
   "source": [
    "import os\n",
    "\n",
    "PIPELINE_NAME = \"penguin-tfma\"\n",
    "\n",
    "# Output directory to store artifacts generated from the pipeline.\n",
    "PIPELINE_ROOT = os.path.join('pipelines', PIPELINE_NAME)\n",
    "# Path to a SQLite DB file to use as an MLMD storage.\n",
    "METADATA_PATH = os.path.join('metadata', PIPELINE_NAME, 'metadata.db')\n",
    "# Output directory where created models from the pipeline will be exported.\n",
    "SERVING_MODEL_DIR = os.path.join('serving_model', PIPELINE_NAME)\n",
    "\n",
    "from absl import logging\n",
    "logging.set_verbosity(logging.INFO)  # Set default logging level"
   ]
  },
  {
   "cell_type": "markdown",
   "id": "ef7c5626",
   "metadata": {},
   "source": [
    "### Prepare example data"
   ]
  },
  {
   "cell_type": "markdown",
   "id": "1738e607",
   "metadata": {},
   "source": [
    "We will use the same Palmer Penguins dataset. \n",
    "\n",
    "There are four numeric features in this dataset which are already normalized to have range [0,1]. We will build a classification model which predicts the species of the penguins. \n",
    "\n",
    "Because TFX ExampleGen reads inputs from a directory, we need to create a directory and copy dataset to it.\n"
   ]
  },
  {
   "cell_type": "code",
   "execution_count": 3,
   "id": "c9532b1c",
   "metadata": {},
   "outputs": [
    {
     "data": {
      "text/plain": [
       "('/tmp/tfx-dataog_5ulgf/data.csv', <http.client.HTTPMessage at 0x7fdfb699d6a0>)"
      ]
     },
     "execution_count": 3,
     "metadata": {},
     "output_type": "execute_result"
    }
   ],
   "source": [
    "import urllib.request\n",
    "import tempfile\n",
    "\n",
    "DATA_ROOT = tempfile.mkdtemp(prefix='tfx-data')  # Create a temporary directory.\n",
    "_data_url = 'https://raw.githubusercontent.com/tensorflow/tfx/master/tfx/examples/penguin/data/labelled/penguins_processed.csv'\n",
    "_data_filepath = os.path.join(DATA_ROOT, \"data.csv\")\n",
    "urllib.request.urlretrieve(_data_url, _data_filepath)"
   ]
  },
  {
   "cell_type": "markdown",
   "id": "7087a929",
   "metadata": {},
   "source": [
    "### Create a pipeline"
   ]
  },
  {
   "cell_type": "markdown",
   "id": "68ec187e",
   "metadata": {},
   "source": [
    "We will add an **Evaluator** component to the pipeline we created in the Simple TFX Pipeline Tutorial."
   ]
  }
 ],
 "metadata": {
  "kernelspec": {
   "display_name": "tfx",
   "language": "python",
   "name": "tfx"
  },
  "language_info": {
   "codemirror_mode": {
    "name": "ipython",
    "version": 3
   },
   "file_extension": ".py",
   "mimetype": "text/x-python",
   "name": "python",
   "nbconvert_exporter": "python",
   "pygments_lexer": "ipython3",
   "version": "3.8.0"
  }
 },
 "nbformat": 4,
 "nbformat_minor": 5
}
