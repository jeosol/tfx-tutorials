{
 "cells": [
  {
   "cell_type": "code",
   "execution_count": 3,
   "id": "650a7228",
   "metadata": {},
   "outputs": [],
   "source": [
    "import tensorflow as tf\n",
    "from tensorflow import keras\n"
   ]
  },
  {
   "cell_type": "markdown",
   "id": "e8b32410",
   "metadata": {},
   "source": [
    "### SparseCategorialCrossentropy \n",
    "\n",
    "From keras TF documentation"
   ]
  },
  {
   "cell_type": "markdown",
   "id": "d18eddda",
   "metadata": {},
   "source": [
    "* Use this crossentropy loss function when there are two or more label classes. \n",
    "\n",
    "* We expect labels to be provided as integers. \n",
    "\n",
    "* If you want to provide labels using one-hot representation, please use CategoricalCrossentropy loss\n",
    "\n",
    "* There should be #classes floating point values per feature for y_pred and a single float point value per feature for y_true. \n"
   ]
  },
  {
   "cell_type": "code",
   "execution_count": 11,
   "id": "23b248be",
   "metadata": {},
   "outputs": [
    {
     "data": {
      "text/plain": [
       "1.1769392"
      ]
     },
     "execution_count": 11,
     "metadata": {},
     "output_type": "execute_result"
    }
   ],
   "source": [
    "y_true = [1,2]\n",
    "y_pred = [[0.05, 0.95, 0], [0.1, 0.8, 0.1]]\n",
    "# Using 'auto'/'sum_over_batch_size' reduction type.\n",
    "scce = tf.keras.losses.SparseCategoricalCrossentropy()\n",
    "scce(y_true, y_pred).numpy()"
   ]
  },
  {
   "cell_type": "code",
   "execution_count": 5,
   "id": "dfa85add",
   "metadata": {},
   "outputs": [
    {
     "data": {
      "text/plain": [
       "0.8135988"
      ]
     },
     "execution_count": 5,
     "metadata": {},
     "output_type": "execute_result"
    }
   ],
   "source": [
    "# Calling with 'sample_weight'\n",
    "scce(y_true, y_pred, sample_weight=tf.constant([0.3, 0.7])).numpy()"
   ]
  },
  {
   "cell_type": "code",
   "execution_count": 10,
   "id": "cdc4e8a3",
   "metadata": {},
   "outputs": [
    {
     "data": {
      "text/plain": [
       "0.5884696"
      ]
     },
     "execution_count": 10,
     "metadata": {},
     "output_type": "execute_result"
    }
   ],
   "source": [
    "# Calling with equal sample weights\n",
    "scce(y_true, y_pred, sample_weight=tf.constant([0.50, 0.50])).numpy()"
   ]
  },
  {
   "cell_type": "code",
   "execution_count": 12,
   "id": "76e337e2",
   "metadata": {},
   "outputs": [
    {
     "data": {
      "text/plain": [
       "2.3538785"
      ]
     },
     "execution_count": 12,
     "metadata": {},
     "output_type": "execute_result"
    }
   ],
   "source": [
    "#Using 'sum' reduction type\n",
    "scce = tf.keras.losses.SparseCategoricalCrossentropy(\n",
    "    reduction=tf.keras.losses.Reduction.SUM)\n",
    "scce(y_true, y_pred).numpy()"
   ]
  },
  {
   "cell_type": "code",
   "execution_count": 13,
   "id": "95b85812",
   "metadata": {},
   "outputs": [
    {
     "data": {
      "text/plain": [
       "array([0.05129344, 2.3025851 ], dtype=float32)"
      ]
     },
     "execution_count": 13,
     "metadata": {},
     "output_type": "execute_result"
    }
   ],
   "source": [
    "# Using 'none' reduction type.\n",
    "scce = tf.keras.losses.SparseCategoricalCrossentropy(\n",
    "    reduction=tf.keras.losses.Reduction.NONE)\n",
    "scce(y_true, y_pred).numpy()"
   ]
  },
  {
   "cell_type": "markdown",
   "id": "53c5952d",
   "metadata": {},
   "source": [
    "Usage with the compile() API\n",
    "\n",
    "model.compile(optimizer='sgd',\n",
    "              loss=tf.keras.losses.SparseCategoricalCrossentropy())"
   ]
  },
  {
   "cell_type": "markdown",
   "id": "de0ba457",
   "metadata": {},
   "source": [
    "Args:\n",
    "\n",
    "- from_logits: whether y_pred is expected to be a logits tensor. By default, we assume that y_pred encodes a probability distribution\n",
    "\n",
    "- reduction: type of tf.keras.losses.Reduction to apply to loss. Default value is AUTO. AUTO indicates that the reduction option will be determined by the usage context. For allmost all cases, the defaults to SUM_OVER_BATCH_SIZE\n",
    "\n",
    "- name: optional name for the instance. Defaults to 'sparse_categorical_crossentropy'"
   ]
  }
 ],
 "metadata": {
  "kernelspec": {
   "display_name": "tfx",
   "language": "python",
   "name": "tfx"
  },
  "language_info": {
   "codemirror_mode": {
    "name": "ipython",
    "version": 3
   },
   "file_extension": ".py",
   "mimetype": "text/x-python",
   "name": "python",
   "nbconvert_exporter": "python",
   "pygments_lexer": "ipython3",
   "version": "3.8.0"
  }
 },
 "nbformat": 4,
 "nbformat_minor": 5
}
