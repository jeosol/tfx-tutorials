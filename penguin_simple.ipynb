{
 "cells": [
  {
   "cell_type": "markdown",
   "id": "53917257",
   "metadata": {},
   "source": [
    "## Simple TFX Pipeline Tutorial using Penguin dataset"
   ]
  },
  {
   "cell_type": "markdown",
   "id": "10cd7ebb",
   "metadata": {},
   "source": [
    "### A short tutorial to run a simple TFX pipeline"
   ]
  },
  {
   "cell_type": "markdown",
   "id": "aadb2cce",
   "metadata": {},
   "source": [
    "This notebook follows the TFX tutorial here https://www.tensorflow.org/tfx/tucd%20torials/tfx/penguin_simple\n",
    "\n",
    "Modications to the notebook were made to enable running the notebook locally"
   ]
  },
  {
   "cell_type": "code",
   "execution_count": 1,
   "id": "861d3b3f",
   "metadata": {
    "scrolled": true
   },
   "outputs": [
    {
     "name": "stdout",
     "output_type": "stream",
     "text": [
      "TensorFlow version: 2.8.1\n",
      "TFX version: 1.7.1\n"
     ]
    }
   ],
   "source": [
    "# Check the Tensorflow and TFX versions\n",
    "import tensorflow as tf\n",
    "print('TensorFlow version: {}'.format(tf.__version__))\n",
    "from tfx import v1 as tfx\n",
    "print('TFX version: {}'.format(tfx.__version__))"
   ]
  },
  {
   "cell_type": "markdown",
   "id": "a0efe3b8",
   "metadata": {},
   "source": [
    "### Set up variables"
   ]
  },
  {
   "cell_type": "markdown",
   "id": "dc176e81",
   "metadata": {},
   "source": [
    "Set up variables used to define a pipeline"
   ]
  },
  {
   "cell_type": "code",
   "execution_count": 2,
   "id": "184daa84",
   "metadata": {},
   "outputs": [],
   "source": [
    "import os\n",
    "\n",
    "PIPELINE_NAME='penguin-simple'\n",
    "\n",
    "# Output directory to store artifacts generated from the pipeline\n",
    "PIPELINE_ROOT = os.path.join('pipelines', PIPELINE_NAME)\n",
    "# Path to a SQLITE DB file to use as an MLMD (ML Metadata) storage.\n",
    "METADATA_PATH = os.path.join('metadata', PIPELINE_NAME,'metadata.db')\n",
    "# Output directory where created models from the pipeline will be exported\n",
    "SERVING_MODEL_DIR = os.path.join('serving_model', PIPELINE_NAME)\n",
    "\n",
    "from absl import logging\n",
    "logging.set_verbosity(logging.INFO) # set default logging level."
   ]
  },
  {
   "cell_type": "markdown",
   "id": "6aa45b57",
   "metadata": {},
   "source": [
    "### Prepare example data"
   ]
  },
  {
   "cell_type": "markdown",
   "id": "86a087f7",
   "metadata": {},
   "source": [
    "We will download the example Palmer Penguins dataset\n",
    "\n",
    "There are 4 numeric features in this dataset:\n",
    "\n",
    "    * culmen_length_mm    \n",
    "    * culmen_depth_mm    \n",
    "    * flipper_length_mm    \n",
    "    * body_mass_g\n",
    "    \n",
    "All features were already normalized to have range[0,1]. Will will build a classification model which predicts the species of penguins. \n",
    "\n",
    "Because TFX ExampleGen reads inputs from a directory, we need to create a directory and copy dataset to it."
   ]
  },
  {
   "cell_type": "code",
   "execution_count": 3,
   "id": "ecbd52e5",
   "metadata": {},
   "outputs": [
    {
     "data": {
      "text/plain": [
       "('/tmp/tfx-data0s2g_5f4/data.csv', <http.client.HTTPMessage at 0x7f37ebebd700>)"
      ]
     },
     "execution_count": 3,
     "metadata": {},
     "output_type": "execute_result"
    }
   ],
   "source": [
    "import urllib.request\n",
    "import tempfile\n",
    "\n",
    "DATA_ROOT = tempfile.mkdtemp(prefix='tfx-data')  # Create a temporary directory.\n",
    "_data_url = 'https://raw.githubusercontent.com/tensorflow/tfx/master/tfx/examples/penguin/data/labelled/penguins_processed.csv'\n",
    "_data_filepath = os.path.join(DATA_ROOT, \"data.csv\")\n",
    "urllib.request.urlretrieve(_data_url, _data_filepath)"
   ]
  },
  {
   "cell_type": "markdown",
   "id": "6fb71f5f",
   "metadata": {},
   "source": [
    "Take a quick look at the CSV file."
   ]
  },
  {
   "cell_type": "code",
   "execution_count": 5,
   "id": "65bc8a67",
   "metadata": {},
   "outputs": [
    {
     "name": "stdout",
     "output_type": "stream",
     "text": [
      "species,culmen_length_mm,culmen_depth_mm,flipper_length_mm,body_mass_g\r\n",
      "0,0.2545454545454545,0.6666666666666666,0.15254237288135594,0.2916666666666667\r\n",
      "0,0.26909090909090905,0.5119047619047618,0.23728813559322035,0.3055555555555556\r\n",
      "0,0.29818181818181805,0.5833333333333334,0.3898305084745763,0.1527777777777778\r\n",
      "0,0.16727272727272732,0.7380952380952381,0.3559322033898305,0.20833333333333334\r\n",
      "0,0.26181818181818167,0.892857142857143,0.3050847457627119,0.2638888888888889\r\n",
      "0,0.24727272727272717,0.5595238095238096,0.15254237288135594,0.2569444444444444\r\n",
      "0,0.25818181818181823,0.773809523809524,0.3898305084745763,0.5486111111111112\r\n",
      "0,0.32727272727272727,0.5357142857142859,0.1694915254237288,0.1388888888888889\r\n",
      "0,0.23636363636363636,0.9642857142857142,0.3220338983050847,0.3055555555555556\r\n"
     ]
    }
   ],
   "source": [
    "!head {_data_filepath}"
   ]
  },
  {
   "cell_type": "markdown",
   "id": "22113934",
   "metadata": {},
   "source": [
    "You should be able to see five values, **species** is one of 0, 1, or 2, and all other features should have values between 0 and 1."
   ]
  },
  {
   "cell_type": "code",
   "execution_count": null,
   "id": "0936597b",
   "metadata": {},
   "outputs": [],
   "source": []
  }
 ],
 "metadata": {
  "kernelspec": {
   "display_name": "tfx",
   "language": "python",
   "name": "tfx"
  },
  "language_info": {
   "codemirror_mode": {
    "name": "ipython",
    "version": 3
   },
   "file_extension": ".py",
   "mimetype": "text/x-python",
   "name": "python",
   "nbconvert_exporter": "python",
   "pygments_lexer": "ipython3",
   "version": "3.8.0"
  }
 },
 "nbformat": 4,
 "nbformat_minor": 5
}
