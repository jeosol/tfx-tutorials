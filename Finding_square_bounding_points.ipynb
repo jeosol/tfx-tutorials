{
  "nbformat": 4,
  "nbformat_minor": 0,
  "metadata": {
    "colab": {
      "name": "Finding_square_bounding_points.ipynb",
      "provenance": [],
      "authorship_tag": "ABX9TyMrBZK5f2Dj8pDJd+8ezyxv",
      "include_colab_link": true
    },
    "kernelspec": {
      "name": "python3",
      "display_name": "Python 3"
    },
    "language_info": {
      "name": "python"
    }
  },
  "cells": [
    {
      "cell_type": "markdown",
      "metadata": {
        "id": "view-in-github",
        "colab_type": "text"
      },
      "source": [
        "<a href=\"https://colab.research.google.com/github/jeosol/tfx-tutorials/blob/main/Finding_square_bounding_points.ipynb\" target=\"_parent\"><img src=\"https://colab.research.google.com/assets/colab-badge.svg\" alt=\"Open In Colab\"/></a>"
      ]
    },
    {
      "cell_type": "code",
      "execution_count": null,
      "metadata": {
        "id": "mLjNqFOO79fH"
      },
      "outputs": [],
      "source": [
        ""
      ]
    },
    {
      "cell_type": "markdown",
      "source": [
        "Function to generate a square that bounds k points"
      ],
      "metadata": {
        "id": "MnA2WOUB8D2M"
      }
    },
    {
      "cell_type": "code",
      "source": [
        "import heapq \n",
        "import numpy as np\n",
        "from sklearn.datasets import make_blobs\n",
        "import matplotlib.pyplot as plt \n",
        "\n"
      ],
      "metadata": {
        "id": "4BZK5i0j8TYe"
      },
      "execution_count": 26,
      "outputs": []
    },
    {
      "cell_type": "code",
      "source": [
        "X, y = make_blobs(n_samples=100, centers=1, n_features=2, random_state=0)"
      ],
      "metadata": {
        "id": "0CEyEF4o-PL2"
      },
      "execution_count": 51,
      "outputs": []
    },
    {
      "cell_type": "code",
      "source": [
        ""
      ],
      "metadata": {
        "id": "gBT3Tc6q8s-N"
      },
      "execution_count": 23,
      "outputs": []
    },
    {
      "cell_type": "code",
      "source": [
        "X[0]"
      ],
      "metadata": {
        "colab": {
          "base_uri": "https://localhost:8080/"
        },
        "id": "sfKNsaEG9mJq",
        "outputId": "62bbd325-ad9b-4380-d07e-b900cc3ea959"
      },
      "execution_count": 52,
      "outputs": [
        {
          "output_type": "execute_result",
          "data": {
            "text/plain": [
              "array([0.11504439, 6.21385228])"
            ]
          },
          "metadata": {},
          "execution_count": 52
        }
      ]
    },
    {
      "cell_type": "code",
      "source": [
        "plt.figure(figsize=(8,8))\n",
        "plt.scatter(X[:][0], X[:][1])"
      ],
      "metadata": {
        "colab": {
          "base_uri": "https://localhost:8080/",
          "height": 500
        },
        "id": "82xPvpun9GWF",
        "outputId": "a8f5c8c4-64c2-478c-e6e0-3e81549acef4"
      },
      "execution_count": 24,
      "outputs": [
        {
          "output_type": "execute_result",
          "data": {
            "text/plain": [
              "<matplotlib.collections.PathCollection at 0x7efc5f044210>"
            ]
          },
          "metadata": {},
          "execution_count": 24
        },
        {
          "output_type": "display_data",
          "data": {
            "text/plain": [
              "<Figure size 576x576 with 1 Axes>"
            ],
            "image/png": "[encoded data removed]"
          },
          "metadata": {
            "needs_background": "light"
          }
        }
      ]
    },
    {
      "cell_type": "code",
      "source": [
        "X[0]"
      ],
      "metadata": {
        "colab": {
          "base_uri": "https://localhost:8080/"
        },
        "id": "JKtEeX259Oil",
        "outputId": "9bed33f8-53f4-401b-d07d-6532c8f57e64"
      },
      "execution_count": 67,
      "outputs": [
        {
          "output_type": "execute_result",
          "data": {
            "text/plain": [
              "array([0.11504439, 6.21385228])"
            ]
          },
          "metadata": {},
          "execution_count": 67
        }
      ]
    },
    {
      "cell_type": "code",
      "source": [
        "import math\n",
        "def distance(point, center):\n",
        "    return math.sqrt((point[0]-center[0])**2.0 + (point[1]-center[1])**2.0)\n",
        "\n",
        "\n",
        "def find_square_coords(k : int = 10):\n",
        "  X, _, center = make_blobs(n_samples=100, centers=1, n_features=2, random_state=0, return_centers=True)\n",
        "  #X, _, center = make_blobs(n_samples=100, centers=1, n_features=2, return_centers=True)\n",
        "  center = center[0]\n",
        "  print(X[1:5][:])\n",
        "  print(center)\n",
        "  #center = np.mean(X.transpose(), axis=1)\n",
        "  min_x = float('inf')\n",
        "  max_x = float('-inf')\n",
        "  min_y = float('inf')\n",
        "  max_y = float('-inf')\n",
        "  # maintain diagonal\n",
        "  max_heap = []\n",
        "  min_heap = []\n",
        "  for x in X:\n",
        "    heapq.heappush(max_heap, (-distance(x, center), x))\n",
        "    \n",
        "    #heapq.heapush(min_heap, (-distance(x, center), x))\n",
        "    \n",
        "    if len(max_heap) == k + 1:\n",
        "      # remove a point, point removed is always the furthest point\n",
        "      heapq.heappop(max_heap)\n",
        "      _, furthest_point = max_heap[0]\n",
        "      #max_x = max(max_x, furthest_point[0])\n",
        "      #max_y = max(max_y, furthest_point[1])\n",
        "  \n",
        "  print(len(max_heap))\n",
        "  heap_pts = []\n",
        "  while max_heap:\n",
        "    _, (pt_x, pt_y) = heapq.heappop(max_heap)\n",
        "    heap_pts.append([pt_x, pt_y])\n",
        "    max_x = max(max_x, pt_x)\n",
        "    max_y = max(max_y, pt_y)\n",
        "    min_x = min(min_x, pt_x)\n",
        "    min_y = min(min_y, pt_y)\n",
        "  print(len(max_heap))\n",
        "  heap_pts = np.array(heap_pts).transpose()\n",
        "  res = np.array([[min_x, min_y], [max_x, max_y]]).transpose()\n",
        "  \n",
        "  Xt = X.transpose()\n",
        "  plt.scatter(Xt[:][0], Xt[:][1])\n",
        "  plt.scatter(heap_pts[:][0], heap_pts[:][1])\n",
        "  plt.scatter(res[:][0], res[:][1])\n",
        "  plt.scatter(center[0], center[1])\n",
        "  return [[min_x, min_y], [max_x, max_y]]"
      ],
      "metadata": {
        "id": "LDTzwW7c-HyL"
      },
      "execution_count": 143,
      "outputs": []
    },
    {
      "cell_type": "code",
      "source": [
        "res = find_square_coords(10)"
      ],
      "metadata": {
        "colab": {
          "base_uri": "https://localhost:8080/",
          "height": 387
        },
        "id": "uEF8ooIN_GIi",
        "outputId": "6da4e10d-449a-4755-b5f5-272c55461b06"
      },
      "execution_count": 144,
      "outputs": [
        {
          "output_type": "stream",
          "name": "stdout",
          "text": [
            "[[ 0.08848433  2.32299086]\n",
            " [-0.51498751  4.74317903]\n",
            " [ 1.37227679  3.21072582]\n",
            " [-0.12811326  4.35595241]]\n",
            "[0.97627008 4.30378733]\n",
            "10\n",
            "0\n"
          ]
        },
        {
          "output_type": "display_data",
          "data": {
            "text/plain": [
              "<Figure size 432x288 with 1 Axes>"
            ],
            "image/png": "[encoded data removed]"
          },
          "metadata": {
            "needs_background": "light"
          }
        }
      ]
    },
    {
      "cell_type": "code",
      "source": [
        "Xt = X.transpose()"
      ],
      "metadata": {
        "id": "4FXJH1Y9HD30"
      },
      "execution_count": 96,
      "outputs": []
    },
    {
      "cell_type": "code",
      "source": [
        "plt.scatter(Xt[:][0], Xt[:][1])\n",
        "plt.scatter(res[:][0], res[:][1])"
      ],
      "metadata": {
        "colab": {
          "base_uri": "https://localhost:8080/",
          "height": 282
        },
        "id": "6rAxabBF_JEI",
        "outputId": "4d18e46e-85e3-4864-b23b-99110b1e16e4"
      },
      "execution_count": 97,
      "outputs": [
        {
          "output_type": "execute_result",
          "data": {
            "text/plain": [
              "<matplotlib.collections.PathCollection at 0x7efc5ebcef90>"
            ]
          },
          "metadata": {},
          "execution_count": 97
        },
        {
          "output_type": "display_data",
          "data": {
            "text/plain": [
              "<Figure size 432x288 with 1 Axes>"
            ],
            "image/png": "[encoded data removed]"
          },
          "metadata": {
            "needs_background": "light"
          }
        }
      ]
    },
    {
      "cell_type": "code",
      "source": [
        "a = np.random.random((3,4))\n",
        "a.transpose()"
      ],
      "metadata": {
        "colab": {
          "base_uri": "https://localhost:8080/"
        },
        "id": "vtpy6QyDFfQS",
        "outputId": "efa9e61b-7296-47f0-b9f9-9fbb89a281b8"
      },
      "execution_count": 71,
      "outputs": [
        {
          "output_type": "execute_result",
          "data": {
            "text/plain": [
              "array([[0.91582371, 0.81849404, 0.91817778],\n",
              "       [0.08814939, 0.76414975, 0.83657608],\n",
              "       [0.28160786, 0.14903947, 0.43919748],\n",
              "       [0.43186543, 0.79807452, 0.22248726]])"
            ]
          },
          "metadata": {},
          "execution_count": 71
        }
      ]
    },
    {
      "cell_type": "code",
      "source": [
        "a"
      ],
      "metadata": {
        "colab": {
          "base_uri": "https://localhost:8080/"
        },
        "id": "wMQizrPzFqys",
        "outputId": "e8098405-65d6-4187-d257-28ecad7592e6"
      },
      "execution_count": 72,
      "outputs": [
        {
          "output_type": "execute_result",
          "data": {
            "text/plain": [
              "array([[0.91582371, 0.08814939, 0.28160786, 0.43186543],\n",
              "       [0.81849404, 0.76414975, 0.14903947, 0.79807452],\n",
              "       [0.91817778, 0.83657608, 0.43919748, 0.22248726]])"
            ]
          },
          "metadata": {},
          "execution_count": 72
        }
      ]
    }
  ]
}