{
 "cells": [
  {
   "cell_type": "markdown",
   "id": "6abec7c4",
   "metadata": {},
   "source": [
    "## Feature Engineering using TFX Pipeline and TensorFlow Transform\n",
    "\n",
    "Transform input data and train a model with a TFX pipeline."
   ]
  },
  {
   "cell_type": "code",
   "execution_count": null,
   "id": "f0a17292",
   "metadata": {},
   "outputs": [],
   "source": []
  }
 ],
 "metadata": {
  "kernelspec": {
   "display_name": "Python 3",
   "language": "python",
   "name": "python3"
  },
  "language_info": {
   "codemirror_mode": {
    "name": "ipython",
    "version": 3
   },
   "file_extension": ".py",
   "mimetype": "text/x-python",
   "name": "python",
   "nbconvert_exporter": "python",
   "pygments_lexer": "ipython3",
   "version": "3.7.12"
  }
 },
 "nbformat": 4,
 "nbformat_minor": 5
}
