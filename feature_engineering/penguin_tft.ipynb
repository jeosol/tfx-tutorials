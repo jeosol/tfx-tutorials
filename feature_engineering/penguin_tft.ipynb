{
 "cells": [
  {
   "cell_type": "markdown",
   "id": "a22eea3b",
   "metadata": {},
   "source": [
    "## Feature Engineering using TFX Pipeline and TensorFlow Transform\n",
    "\n",
    "Transform input data and train a model with a TFX pipeline."
   ]
  },
  {
   "cell_type": "markdown",
   "id": "ccb04cd0",
   "metadata": {},
   "source": [
    "You can increase the predictive quality of your data and/or reduce dimensionality with feature engineering. One of the benefits of using TFX is that you will write your transformation code once, and the resulting transforms will be consistent between training and serving in order to avoid training/serving skew.\n",
    "\n",
    "We will add a Transform component to the pipeline. The Transform component is implemented using the tf.transform library."
   ]
  },
  {
   "cell_type": "code",
   "execution_count": 1,
   "id": "02ddc2ed",
   "metadata": {},
   "outputs": [
    {
     "name": "stdout",
     "output_type": "stream",
     "text": [
      "TensorFlow version: 2.8.1\n",
      "TFX version: 1.7.1\n"
     ]
    }
   ],
   "source": [
    "import tensorflow as tf\n",
    "print('TensorFlow version: {}'.format(tf.__version__))\n",
    "from tfx import v1 as tfx\n",
    "print('TFX version: {}'.format(tfx.__version__))"
   ]
  },
  {
   "cell_type": "code",
   "execution_count": 2,
   "id": "ccc1f9dc",
   "metadata": {},
   "outputs": [],
   "source": [
    "import os\n",
    "\n",
    "PIPELINE_NAME = \"penguin-transform\"\n",
    "\n",
    "# Output directory to store artifacts generated from the pipeline.\n",
    "PIPELINE_ROOT = os.path.join('pipelines', PIPELINE_NAME)\n",
    "# Path to a SQLite DB file to use as an MLMD storage.\n",
    "METADATA_PATH = os.path.join('metadata', PIPELINE_NAME, 'metadata.db')\n",
    "# Output directory where created models from the pipeline will be exported.\n",
    "SERVING_MODEL_DIR = os.path.join('serving_model', PIPELINE_NAME)\n",
    "\n",
    "from absl import logging\n",
    "logging.set_verbosity(logging.INFO)  # Set default logging level."
   ]
  },
  {
   "cell_type": "markdown",
   "id": "1ce0fc58",
   "metadata": {},
   "source": [
    "### Prepare example data"
   ]
  },
  {
   "cell_type": "markdown",
   "id": "ae275a77",
   "metadata": {},
   "source": [
    "We will download the example dataset for use in our TFX pipeline. The dataset we are using is Palmer Penguins dataset.\n",
    "\n",
    "However, unlike previous tutorials which used an already preprocessed dataset, we will use the raw Palmer Penguins dataset.\n",
    "\n",
    "Because the TFX ExampleGen component reads inputs from a directory, we need to create a directory and copy the dataset to it."
   ]
  },
  {
   "cell_type": "code",
   "execution_count": 3,
   "id": "54f01cd8",
   "metadata": {},
   "outputs": [
    {
     "data": {
      "text/plain": [
       "('/tmp/tfx-datalvyu4pva/data.csv', <http.client.HTTPMessage at 0x7fbfba1883a0>)"
      ]
     },
     "execution_count": 3,
     "metadata": {},
     "output_type": "execute_result"
    }
   ],
   "source": [
    "import urllib.request\n",
    "import tempfile\n",
    "\n",
    "DATA_ROOT = tempfile.mkdtemp(prefix='tfx-data')  # Create a temporary directory.\n",
    "_data_path = 'https://storage.googleapis.com/download.tensorflow.org/data/palmer_penguins/penguins_size.csv'\n",
    "_data_filepath = os.path.join(DATA_ROOT, \"data.csv\")\n",
    "urllib.request.urlretrieve(_data_path, _data_filepath)"
   ]
  },
  {
   "cell_type": "markdown",
   "id": "2157f474",
   "metadata": {},
   "source": [
    "Take a quick look at what the raw data looks like."
   ]
  },
  {
   "cell_type": "code",
   "execution_count": 4,
   "id": "9c6a5ab6",
   "metadata": {},
   "outputs": [
    {
     "name": "stdout",
     "output_type": "stream",
     "text": [
      "species,island,culmen_length_mm,culmen_depth_mm,flipper_length_mm,body_mass_g,sex\r\n",
      "Adelie,Torgersen,39.1,18.7,181,3750,MALE\r\n",
      "Adelie,Torgersen,39.5,17.4,186,3800,FEMALE\r\n",
      "Adelie,Torgersen,40.3,18,195,3250,FEMALE\r\n",
      "Adelie,Torgersen,NA,NA,NA,NA,NA\r\n",
      "Adelie,Torgersen,36.7,19.3,193,3450,FEMALE\r\n",
      "Adelie,Torgersen,39.3,20.6,190,3650,MALE\r\n",
      "Adelie,Torgersen,38.9,17.8,181,3625,FEMALE\r\n",
      "Adelie,Torgersen,39.2,19.6,195,4675,MALE\r\n",
      "Adelie,Torgersen,34.1,18.1,193,3475,NA\r\n"
     ]
    }
   ],
   "source": [
    "!head {_data_filepath}"
   ]
  },
  {
   "cell_type": "markdown",
   "id": "ee11e568",
   "metadata": {},
   "source": [
    "There are some entries with missing values which are represented as NA. We will just delete those entries in this tutorial.\n",
    "\n",
    "\n"
   ]
  },
  {
   "cell_type": "code",
   "execution_count": 5,
   "id": "99bb1ac4",
   "metadata": {},
   "outputs": [
    {
     "name": "stdout",
     "output_type": "stream",
     "text": [
      "species,island,culmen_length_mm,culmen_depth_mm,flipper_length_mm,body_mass_g,sex\r\n",
      "Adelie,Torgersen,39.1,18.7,181,3750,MALE\r\n",
      "Adelie,Torgersen,39.5,17.4,186,3800,FEMALE\r\n",
      "Adelie,Torgersen,40.3,18,195,3250,FEMALE\r\n",
      "Adelie,Torgersen,36.7,19.3,193,3450,FEMALE\r\n",
      "Adelie,Torgersen,39.3,20.6,190,3650,MALE\r\n",
      "Adelie,Torgersen,38.9,17.8,181,3625,FEMALE\r\n",
      "Adelie,Torgersen,39.2,19.6,195,4675,MALE\r\n",
      "Adelie,Torgersen,41.1,17.6,182,3200,FEMALE\r\n",
      "Adelie,Torgersen,38.6,21.2,191,3800,MALE\r\n"
     ]
    }
   ],
   "source": [
    "!sed -i '/\\bNA\\b/d' {_data_filepath}\n",
    "!head {_data_filepath}"
   ]
  },
  {
   "cell_type": "markdown",
   "id": "b6ed6d57",
   "metadata": {},
   "source": [
    "You should be able to see seven features which describe penguins. We will use the same set of features as the previous tutorials - 'culmen_length_mm', 'culmen_depth_mm', 'flipper_length_mm', 'body_mass_g' - and will predict the 'species' of a penguin."
   ]
  },
  {
   "cell_type": "markdown",
   "id": "79c0507c",
   "metadata": {},
   "source": [
    "The only difference will be that the input data is not preprocessed. Note that we will not use other features like 'island' or 'sex' in this tutorial."
   ]
  },
  {
   "cell_type": "code",
   "execution_count": null,
   "id": "9415f404",
   "metadata": {},
   "outputs": [],
   "source": []
  }
 ],
 "metadata": {
  "kernelspec": {
   "display_name": "tfx",
   "language": "python",
   "name": "tfx"
  },
  "language_info": {
   "codemirror_mode": {
    "name": "ipython",
    "version": 3
   },
   "file_extension": ".py",
   "mimetype": "text/x-python",
   "name": "python",
   "nbconvert_exporter": "python",
   "pygments_lexer": "ipython3",
   "version": "3.8.0"
  }
 },
 "nbformat": 4,
 "nbformat_minor": 5
}
